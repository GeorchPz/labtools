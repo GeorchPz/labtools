{
 "cells": [
  {
   "cell_type": "code",
   "execution_count": 1,
   "metadata": {},
   "outputs": [],
   "source": [
    "import numpy as np\n",
    "import matplotlib.pyplot as plt\n",
    "from scipy.optimize import curve_fit\n",
    "\n",
    "def perform_weighted_regression(x, y, dx=None, dy=None, func=None, initial_params=None, fit_type='least_squares'):\n",
    "    \"\"\"\n",
    "    Perform regression analysis with optional uncertainties in x and y.\n",
    "    \n",
    "    Parameters:\n",
    "    -----------\n",
    "    x : array-like\n",
    "        Independent variable data\n",
    "    y : array-like\n",
    "        Dependent variable data\n",
    "    dx : array-like, optional\n",
    "        Uncertainty in x values\n",
    "    dy : array-like, optional\n",
    "        Uncertainty in y values\n",
    "    func : callable\n",
    "        Model function: f(x, param1, param2, ...)\n",
    "    initial_params : list, optional\n",
    "        Initial parameter values\n",
    "    fit_type : str\n",
    "        Type of fit ('least_squares' or 'odr' for handling x uncertainties)\n",
    "        \n",
    "    Returns:\n",
    "    --------\n",
    "    params : array\n",
    "        Optimized parameters\n",
    "    pcov : 2D array\n",
    "        Covariance matrix of parameters\n",
    "    \"\"\"\n",
    "    if fit_type == 'least_squares':\n",
    "        # Standard least squares with y uncertainties only\n",
    "        sigma = dy if dy is not None else None\n",
    "        \n",
    "        # If initial_params not provided, use ones\n",
    "        if initial_params is None:\n",
    "            initial_params = np.ones(func.__code__.co_argcount - 1)\n",
    "            \n",
    "        # Perform the fit\n",
    "        params, pcov = curve_fit(func, x, y, p0=initial_params, sigma=sigma, absolute_sigma=True)\n",
    "        \n",
    "    elif fit_type == 'odr':\n",
    "        # Orthogonal Distance Regression (handles x and y uncertainties)\n",
    "        from scipy import odr\n",
    "        \n",
    "        # Create an ODR model\n",
    "        model = odr.Model(lambda params, x: func(x, *params))\n",
    "        \n",
    "        # Set up data\n",
    "        if dx is None:\n",
    "            dx = np.zeros_like(x)\n",
    "        if dy is None:\n",
    "            dy = np.ones_like(y)\n",
    "            \n",
    "        data = odr.RealData(x, y, sx=dx, sy=dy)\n",
    "        \n",
    "        # If initial_params not provided, use ones\n",
    "        if initial_params is None:\n",
    "            initial_params = np.ones(func.__code__.co_argcount - 1)\n",
    "            \n",
    "        # Create ODR object and run the fit\n",
    "        odr_obj = odr.ODR(data, model, beta0=initial_params)\n",
    "        output = odr_obj.run()\n",
    "        \n",
    "        params = output.beta\n",
    "        pcov = output.cov_beta\n",
    "        \n",
    "    else:\n",
    "        raise ValueError(\"fit_type must be 'least_squares' or 'odr'\")\n",
    "    \n",
    "    return params, pcov"
   ]
  },
  {
   "cell_type": "code",
   "execution_count": 14,
   "metadata": {},
   "outputs": [],
   "source": [
    "x = [0.01, 0.5, 1.0, 1.52, 2.03, 2.46, 3.02, 3.5, 4.01, 4.5, 5.0, 5.48, 6.01, 6.52, 6.96, 7.5, 7.99, 8.45, 8.98, 9.48]\n",
    "y = [9997, 9429, 8667, 8110, 7586, 6986, 6582, 6293, 5748, 5471, 5059, 4824, 4324, 4035, 3826, 3523, 3254, 3251, 2964, 2617]\n",
    "dx = [0.05, 0.05, 0.05, 0.05, 0.05, 0.05, 0.05, 0.05, 0.05, 0.05, 0.05, 0.05, 0.05, 0.05, 0.05, 0.05, 0.05, 0.05, 0.05, 0.05]\n",
    "dy = [509.7, 481.3, 443.3, 415.4, 389.1, 359.3, 338.9, 324.3, 297.2, 283.2, 262.6, 250.7, 226.0, 211.6, 201.0, 185.9, 172.6, 171.8, 157.6, 140.7]\n"
   ]
  },
  {
   "cell_type": "code",
   "execution_count": 2,
   "metadata": {},
   "outputs": [
    {
     "name": "stdout",
     "output_type": "stream",
     "text": [
      "Fitted amplitude: 2.1192 ± 0.0000\n",
      "Fitted decay rate: 0.1000 ± 0.0000\n"
     ]
    },
    {
     "data": {
      "image/png": "[encoded data removed]",
      "text/plain": [
       "<Figure size 640x480 with 1 Axes>"
      ]
     },
     "metadata": {},
     "output_type": "display_data"
    }
   ],
   "source": [
    "\n",
    "# Example data\n",
    "x = np.linspace(0, 10, 20)\n",
    "dx = np.ones_like(x) * 0.1\n",
    "y = 2 * np.exp(-0.5 * x) + np.random.normal(0, 0.2, len(x))\n",
    "dy = np.ones_like(y) * 0.2\n",
    "\n",
    "# Define your model function\n",
    "def exponential_decay(x, amplitude, decay_rate):\n",
    "    return amplitude * np.exp(-decay_rate * x)\n",
    "\n",
    "# Initial parameter guesses\n",
    "initial_params = [y[0], 0.1]\n",
    "\n",
    "# Perform the fit\n",
    "params, pcov = perform_weighted_regression(\n",
    "    x, y, dx, dy, \n",
    "    func=exponential_decay, \n",
    "    initial_params=initial_params,\n",
    "    fit_type='odr'  # Use 'odr' if you have x uncertainties, 'least_squares' otherwise\n",
    ")\n",
    "\n",
    "# Extract fitted parameters and uncertainties\n",
    "fitted_amplitude, fitted_decay = params\n",
    "amplitude_error, decay_error = np.sqrt(np.diag(pcov))\n",
    "\n",
    "print(f\"Fitted amplitude: {fitted_amplitude:.4f} ± {amplitude_error:.4f}\")\n",
    "print(f\"Fitted decay rate: {fitted_decay:.4f} ± {decay_error:.4f}\")\n",
    "\n",
    "# Plotting\n",
    "plt.errorbar(x, y, xerr=dx, yerr=dy, fmt='o', label='Data')\n",
    "x_fit = np.linspace(min(x), max(x), 100)\n",
    "plt.plot(x_fit, exponential_decay(x_fit, *params), 'r-', label='Fitted curve')\n",
    "plt.legend()\n",
    "plt.xlabel('x')\n",
    "plt.ylabel('y')\n",
    "plt.show()"
   ]
  }
 ],
 "metadata": {
  "kernelspec": {
   "display_name": "base",
   "language": "python",
   "name": "python3"
  },
  "language_info": {
   "codemirror_mode": {
    "name": "ipython",
    "version": 3
   },
   "file_extension": ".py",
   "mimetype": "text/x-python",
   "name": "python",
   "nbconvert_exporter": "python",
   "pygments_lexer": "ipython3",
   "version": "3.12.4"
  }
 },
 "nbformat": 4,
 "nbformat_minor": 2
}
