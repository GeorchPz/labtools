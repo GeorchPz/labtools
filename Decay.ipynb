{
 "cells": [
  {
   "cell_type": "code",
   "execution_count": null,
   "metadata": {},
   "outputs": [],
   "source": [
    "import os\n",
    "import numpy as np\n",
    "\n",
    "from labtools import LabTools"
   ]
  },
  {
   "cell_type": "markdown",
   "metadata": {},
   "source": [
    "## Workflow Example - Radioactive Decay\n",
    "\n",
    "$$N(t) = N_0 \\cdot \\exp(-\\lambda \\, t)$$"
   ]
  },
  {
   "cell_type": "markdown",
   "metadata": {},
   "source": [
    "### 1. Linear Regression"
   ]
  },
  {
   "cell_type": "markdown",
   "metadata": {},
   "source": [
    "$$\\ln(N) = \\ln(N_0) − \\lambda \\, t$$"
   ]
  },
  {
   "cell_type": "markdown",
   "metadata": {},
   "source": [
    "#### 1.1. Prior Calculation : $\\ln(N)$"
   ]
  },
  {
   "cell_type": "code",
   "execution_count": null,
   "metadata": {},
   "outputs": [],
   "source": [
    "if False:\n",
    "    with LabTools(\n",
    "            foldername='Decay', filename='Radioactive_Decay',\n",
    "            variables='N', equations='lnN = ln(N)'\n",
    "        ) as lab:\n",
    "        lab.load_data()\n",
    "        lab.apply_formula()\n",
    "        lab.unload_data(processed_mark='+')\n",
    "        \n",
    "    # Open the results file in Excel\n",
    "    if False:\n",
    "        os.startfile(lab.results_path)"
   ]
  },
  {
   "cell_type": "markdown",
   "metadata": {},
   "source": [
    "#### 1.2. Regression"
   ]
  },
  {
   "cell_type": "code",
   "execution_count": null,
   "metadata": {},
   "outputs": [],
   "source": [
    "with LabTools(\n",
    "        foldername='Decay', filename='Radioactive_Decay+',\n",
    "        variables='t, lnN',\n",
    "        x_label='t (s)', y_label='lnN', title='Radioactive Decay',\n",
    "    ) as lab:\n",
    "    lab.load_data()\n",
    "    lab.linear_regression()\n",
    "    lab.plot_regression()\n",
    "\n",
    "    A, B = lab.regression_results['coefficients']\n",
    "    lnN0, lamb = A, -B\n",
    "    err_lnN0, err_lamb = lab.regression_results['errors']"
   ]
  },
  {
   "cell_type": "code",
   "execution_count": null,
   "metadata": {},
   "outputs": [],
   "source": [
    "lamb, err_lamb"
   ]
  },
  {
   "cell_type": "markdown",
   "metadata": {},
   "source": [
    "#### Obtain the lifetime $\\tau$\n",
    "\n",
    "$$\\tau = \\ln(2)/\\lambda $$"
   ]
  },
  {
   "cell_type": "code",
   "execution_count": null,
   "metadata": {},
   "outputs": [],
   "source": [
    "with LabTools(variables = 'lamb', equations = 'tau = ln(2) / lamb') as lab:\n",
    "    tau, err_tau = lab.propagate_uncertainty(lamb, err_lamb)\n",
    "    res = lab.rounder(tau, err_tau)\n",
    "\n",
    "print(f'tau = {res[0]} s')"
   ]
  },
  {
   "cell_type": "markdown",
   "metadata": {},
   "source": [
    "$$\\tau = 5.02 \\pm 0.15 \\, \\text{s}$$"
   ]
  },
  {
   "cell_type": "markdown",
   "metadata": {},
   "source": [
    "### 2. Exponential Regression"
   ]
  },
  {
   "cell_type": "code",
   "execution_count": null,
   "metadata": {},
   "outputs": [],
   "source": [
    "import os\n",
    "import numpy as np\n",
    "\n",
    "from labtools import LabTools"
   ]
  },
  {
   "cell_type": "code",
   "execution_count": null,
   "metadata": {},
   "outputs": [],
   "source": [
    "from labtools import analysis\n",
    "\n",
    "def N_func(params, t):\n",
    "    lamb, N0 = params\n",
    "    return N0 * np.exp(-lamb * t)\n",
    "    # return N0 * (1 - lamb * t)\n",
    "\n",
    "with LabTools(\n",
    "        foldername='Decay', filename='Radioactive_Decay',\n",
    "        variables='t, N',\n",
    "        x_label='t (s)', y_label='N', title='Radioactive Decay',\n",
    "    ) as lab:\n",
    "    lab.load_data()\n",
    "    lab.unprocessed_data\n",
    "    lab.curve_regression(N_func, [lamb, np.exp(lnN0)])\n",
    "    lab.plot_regression()\n",
    "\n",
    "    # for key, value in lab.extracted_data.items():\n",
    "    #     print(f'{key} = {list(value)}\\n{value.name}')\n",
    "    \n",
    "    lamb, N0 = lab.regression_results['parameters']\n",
    "\n",
    "    tau = np.log(2) / lamb\n",
    "    print(f'tau = {tau} s')"
   ]
  }
 ],
 "metadata": {
  "kernelspec": {
   "display_name": "base",
   "language": "python",
   "name": "python3"
  },
  "language_info": {
   "codemirror_mode": {
    "name": "ipython",
    "version": 3
   },
   "file_extension": ".py",
   "mimetype": "text/x-python",
   "name": "python",
   "nbconvert_exporter": "python",
   "pygments_lexer": "ipython3",
   "version": "3.12.4"
  }
 },
 "nbformat": 4,
 "nbformat_minor": 2
}
